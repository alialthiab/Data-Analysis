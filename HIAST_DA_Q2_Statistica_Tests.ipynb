{
  "nbformat": 4,
  "nbformat_minor": 0,
  "metadata": {
    "colab": {
      "name": "HIAST-DA-Q2_Statistica_Tests.ipynb",
      "provenance": [],
      "authorship_tag": "ABX9TyOLoUpb/mYeh2xKNppGqqge",
      "include_colab_link": true
    },
    "kernelspec": {
      "name": "ir",
      "display_name": "R"
    },
    "language_info": {
      "name": "R"
    }
  },
  "cells": [
    {
      "cell_type": "markdown",
      "metadata": {
        "id": "view-in-github",
        "colab_type": "text"
      },
      "source": [
        "<a href=\"https://colab.research.google.com/github/alialthiab/Data-Analysis/blob/master/HIAST_DA_Q2_Statistica_Tests.ipynb\" target=\"_parent\"><img src=\"https://colab.research.google.com/assets/colab-badge.svg\" alt=\"Open In Colab\"/></a>"
      ]
    },
    {
      "cell_type": "code",
      "execution_count": 1,
      "metadata": {
        "id": "nVP9QPxpWi2r"
      },
      "outputs": [],
      "source": [
        "class1 <- c(22, 31, 14, 19,  24, 28, 27, 28)\n",
        "class2 <- c(25, 13, 20, 11, 23, 16, 21, 18, 17, 26)"
      ]
    }
  ]
}