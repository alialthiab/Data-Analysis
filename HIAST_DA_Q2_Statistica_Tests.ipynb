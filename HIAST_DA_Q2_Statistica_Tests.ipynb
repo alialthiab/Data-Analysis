{
  "nbformat": 4,
  "nbformat_minor": 0,
  "metadata": {
    "colab": {
      "name": "HIAST-DA-Q2_Statistica_Tests.ipynb",
      "provenance": [],
      "authorship_tag": "ABX9TyMq00y1TgxnJKL3M9YMJsLz",
      "include_colab_link": true
    },
    "kernelspec": {
      "name": "ir",
      "display_name": "R"
    },
    "language_info": {
      "name": "R"
    }
  },
  "cells": [
    {
      "cell_type": "markdown",
      "metadata": {
        "id": "view-in-github",
        "colab_type": "text"
      },
      "source": [
        "<a href=\"https://colab.research.google.com/github/alialthiab/Data-Analysis/blob/master/HIAST_DA_Q2_Statistica_Tests.ipynb\" target=\"_parent\"><img src=\"https://colab.research.google.com/assets/colab-badge.svg\" alt=\"Open In Colab\"/></a>"
      ]
    },
    {
      "cell_type": "code",
      "execution_count": 1,
      "metadata": {
        "id": "nVP9QPxpWi2r"
      },
      "outputs": [],
      "source": [
        "class1 <- c(22, 31, 14, 19,  24, 28, 27, 28)\n",
        "class2 <- c(25, 13, 20, 11, 23, 16, 21, 18, 17, 26)"
      ]
    },
    {
      "cell_type": "code",
      "source": [
        "var(class1)"
      ],
      "metadata": {
        "colab": {
          "base_uri": "https://localhost:8080/",
          "height": 35
        },
        "id": "Y6ATtlCgXTER",
        "outputId": "cae9a52a-e9ca-4899-a139-5aa260b53ac4"
      },
      "execution_count": 12,
      "outputs": [
        {
          "output_type": "display_data",
          "data": {
            "text/html": [
              "31.2678571428571"
            ],
            "text/markdown": "31.2678571428571",
            "text/latex": "31.2678571428571",
            "text/plain": [
              "[1] 31.26786"
            ]
          },
          "metadata": {}
        }
      ]
    },
    {
      "cell_type": "code",
      "source": [
        "var(class2)"
      ],
      "metadata": {
        "colab": {
          "base_uri": "https://localhost:8080/",
          "height": 35
        },
        "id": "quEfKnIvYfY0",
        "outputId": "4f745769-8e95-4f86-df09-2e4461482f95"
      },
      "execution_count": 13,
      "outputs": [
        {
          "output_type": "display_data",
          "data": {
            "text/html": [
              "24.4444444444444"
            ],
            "text/markdown": "24.4444444444444",
            "text/latex": "24.4444444444444",
            "text/plain": [
              "[1] 24.44444"
            ]
          },
          "metadata": {}
        }
      ]
    },
    {
      "cell_type": "code",
      "source": [
        "var.test(class1, class2, alternative = \"two.sided\")"
      ],
      "metadata": {
        "colab": {
          "base_uri": "https://localhost:8080/",
          "height": 208
        },
        "id": "ilHzX9JsXLGD",
        "outputId": "f6c0a968-ef6b-4fb9-fbd9-d399371b7c38"
      },
      "execution_count": 10,
      "outputs": [
        {
          "output_type": "display_data",
          "data": {
            "text/plain": [
              "\n",
              "\tF test to compare two variances\n",
              "\n",
              "data:  class1 and class2\n",
              "F = 1.2791, num df = 7, denom df = 9, p-value = 0.7142\n",
              "alternative hypothesis: true ratio of variances is not equal to 1\n",
              "95 percent confidence interval:\n",
              " 0.3047714 6.1695680\n",
              "sample estimates:\n",
              "ratio of variances \n",
              "           1.27914 \n"
            ]
          },
          "metadata": {}
        }
      ]
    },
    {
      "cell_type": "code",
      "source": [
        ""
      ],
      "metadata": {
        "id": "xD0AnkZbX3cO"
      },
      "execution_count": null,
      "outputs": []
    }
  ]
}